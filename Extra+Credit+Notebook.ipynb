{
 "cells": [
  {
   "cell_type": "markdown",
   "metadata": {},
   "source": [
    "# Understanding and Identifying Fake News\n"
   ]
  },
  {
   "cell_type": "markdown",
   "metadata": {},
   "source": [
    "### Brief Intro"
   ]
  },
  {
   "cell_type": "markdown",
   "metadata": {},
   "source": [
    "'Fake News' is a colloquialism for misinformation that means many things to many different people.\n",
    "\n",
    "The idea of what 'Fake News' represents can be different depending on who you ask and what their political or apolitical alignment is; regardless of charged cultural context, misinformation, and the ability for it to rapidly spread, is a pressing concern for our internet-centric society.\n",
    "\n",
    "Whether it be a TikTok of a man drinking cranberry juice from the jug while skateboarding set to a backdrop of Fleetwood Mac's \"Dreams', or inflammatory and untrue information, the ability for anything to prolifically spread within a matter of minutes on the Internet means that people's perceptions of things can rapdily change, sometimes to disastrous consequences. Traditional and human means of monitoring are simply not possible with the speed at which information can spread on the internet, especially considering the many platforms and users by which even something as innocuous as a kitten gif can be posted.\n",
    "\n",
    "Therefore, it is important to develop automated means of identifying 'Fake News', and furthermore, to understand what underlies Fake News. Ths boils down to a few simple questions."
   ]
  },
  {
   "cell_type": "markdown",
   "metadata": {},
   "source": [
    "Of course, I say important, but this is obviously a student project, and represents more of my own personal curiosity and desire to better understand machine text reading and fake news than something deeply profound or unique."
   ]
  },
  {
   "cell_type": "markdown",
   "metadata": {},
   "source": [
    "### Core Questions"
   ]
  },
  {
   "cell_type": "markdown",
   "metadata": {},
   "source": [
    "1. What does Fake News look like?\n",
    "2. What are typical characteristics of Fake News? (Common or frequent words)\n",
    "3. What are typical characteristics of 'normal' news? (Common or frequent words)\n",
    "4. Can we identify and predict Fake News? (Logistic Regression model)"
   ]
  },
  {
   "cell_type": "markdown",
   "metadata": {},
   "source": [
    "## Dataset"
   ]
  },
  {
   "cell_type": "markdown",
   "metadata": {},
   "source": [
    "To answer my questions, I used a dataset from Kaggle.\n",
    "\n",
    "The dataset can be found here: https://www.kaggle.com/datasets/jillanisofttech/fake-or-real-news/code\n",
    "\n",
    "It was a fairly simple set of data of what looked to be news articles, tweets, and other social media posts. The columns provided were number (an index field?), title, text, and label determining the text as 'FAKE' or 'REAL'.\n",
    "\n",
    "I decided in this case to use pre-labeled data to approach the problem in a supervised manner because I also wished to look at characteristics of fake news myself."
   ]
  },
  {
   "cell_type": "code",
   "execution_count": 1,
   "metadata": {
    "collapsed": true
   },
   "outputs": [],
   "source": [
    "# Import all the libraries\n",
    "import re\n",
    "import pandas as pd\n",
    "import numpy as np\n",
    "from sklearn.feature_extraction import text \n",
    "from sklearn.feature_extraction.text import CountVectorizer\n",
    "from sklearn.feature_extraction.text import TfidfVectorizer\n",
    "from sklearn.linear_model import LogisticRegression\n",
    "from sklearn.model_selection import train_test_split\n",
    "from sklearn.metrics import classification_report, f1_score, accuracy_score, confusion_matrix\n",
    "from sklearn.metrics import roc_curve, auc, roc_auc_score\n",
    "import seaborn as sns\n",
    "from matplotlib import pyplot as plt\n",
    "%matplotlib inline\n"
   ]
  },
  {
   "cell_type": "markdown",
   "metadata": {},
   "source": [
    "### Setting up smaller dataset"
   ]
  },
  {
   "cell_type": "markdown",
   "metadata": {},
   "source": [
    "The original dataset was 30 MB.\n",
    "\n",
    "The project limited datasets to 10 MB, so I decided to sample the data and pull 32% of the data into a new CSV file.\n",
    "\n",
    "This is the code detailing this. This block of code is not run as this needed to be performed only once, and could call an error if you do not have access to the original dataset.\n",
    "\n",
    "What I did was first I read in the data, sampled 32% of it using data.sample, exported the data as a CSV, and then checked the file size to make sure it was within the project requirements."
   ]
  },
  {
   "cell_type": "raw",
   "metadata": {},
   "source": [
    "# Call data, put into pandas df\n",
    "data = pd.read_csv('fake_or_real_news.csv', usecols= ['title','text','label'])\n",
    "# Data is too large. It's 30 MB. Ordinarily, we would want as much data as possible. We can only submit 10MB though.\n",
    "# Sample 30% of data.\n",
    "data = data.sample(frac=0.32, replace=True, random_state=1)\n",
    "# Export dataframe\n",
    "data.to_csv('data.csv')\n",
    "\n",
    "from pathlib import Path \n",
    "sz = Path('data.csv').stat().st_size \n",
    "print(sz)\n",
    "# Just about 10 MB now"
   ]
  },
  {
   "cell_type": "code",
   "execution_count": 2,
   "metadata": {
    "collapsed": true
   },
   "outputs": [],
   "source": [
    "# Reload dataframe\n",
    "# START RUNNING FROM HERE\n",
    "data = pd.read_csv('data.csv', usecols= ['title','text','label'])"
   ]
  },
  {
   "cell_type": "markdown",
   "metadata": {},
   "source": [
    "### Quick look into data"
   ]
  },
  {
   "cell_type": "code",
   "execution_count": 3,
   "metadata": {},
   "outputs": [
    {
     "name": "stdout",
     "output_type": "stream",
     "text": [
      "<class 'pandas.core.frame.DataFrame'>\n",
      "RangeIndex: 2027 entries, 0 to 2026\n",
      "Data columns (total 3 columns):\n",
      " #   Column  Non-Null Count  Dtype \n",
      "---  ------  --------------  ----- \n",
      " 0   title   2027 non-null   object\n",
      " 1   text    2027 non-null   object\n",
      " 2   label   2027 non-null   object\n",
      "dtypes: object(3)\n",
      "memory usage: 47.6+ KB\n"
     ]
    }
   ],
   "source": [
    "data.info()"
   ]
  },
  {
   "cell_type": "code",
   "execution_count": 4,
   "metadata": {},
   "outputs": [
    {
     "data": {
      "text/html": [
       "<div>\n",
       "<style scoped>\n",
       "    .dataframe tbody tr th:only-of-type {\n",
       "        vertical-align: middle;\n",
       "    }\n",
       "\n",
       "    .dataframe tbody tr th {\n",
       "        vertical-align: top;\n",
       "    }\n",
       "\n",
       "    .dataframe thead th {\n",
       "        text-align: right;\n",
       "    }\n",
       "</style>\n",
       "<table border=\"1\" class=\"dataframe\">\n",
       "  <thead>\n",
       "    <tr style=\"text-align: right;\">\n",
       "      <th></th>\n",
       "      <th>title</th>\n",
       "      <th>text</th>\n",
       "      <th>label</th>\n",
       "    </tr>\n",
       "  </thead>\n",
       "  <tbody>\n",
       "    <tr>\n",
       "      <th>0</th>\n",
       "      <td>CAN IT GET MORE CORRUPT? Bill That Bans Naming...</td>\n",
       "      <td>Editor’s Note : Disgusting. This country just ...</td>\n",
       "      <td>FAKE</td>\n",
       "    </tr>\n",
       "    <tr>\n",
       "      <th>1</th>\n",
       "      <td>Why Hillary Won't Unleash WWIII    : Information</td>\n",
       "      <td>Why Hillary Won't Unleash WWIII By Pepe Escob...</td>\n",
       "      <td>FAKE</td>\n",
       "    </tr>\n",
       "    <tr>\n",
       "      <th>2</th>\n",
       "      <td>GOP elites are now resigned to Donald Trump as...</td>\n",
       "      <td>Throughout the Republican Party, from New Hamp...</td>\n",
       "      <td>REAL</td>\n",
       "    </tr>\n",
       "    <tr>\n",
       "      <th>3</th>\n",
       "      <td>Democratic debate: 5 takeaways - Politics.com</td>\n",
       "      <td>Miami (CNN) There were few softballs Wednesday...</td>\n",
       "      <td>REAL</td>\n",
       "    </tr>\n",
       "    <tr>\n",
       "      <th>4</th>\n",
       "      <td>In a revealing interview, Trump predicts a ‘ma...</td>\n",
       "      <td>Donald Trump said in an interview that economi...</td>\n",
       "      <td>REAL</td>\n",
       "    </tr>\n",
       "  </tbody>\n",
       "</table>\n",
       "</div>"
      ],
      "text/plain": [
       "                                               title  \\\n",
       "0  CAN IT GET MORE CORRUPT? Bill That Bans Naming...   \n",
       "1   Why Hillary Won't Unleash WWIII    : Information   \n",
       "2  GOP elites are now resigned to Donald Trump as...   \n",
       "3      Democratic debate: 5 takeaways - Politics.com   \n",
       "4  In a revealing interview, Trump predicts a ‘ma...   \n",
       "\n",
       "                                                text label  \n",
       "0  Editor’s Note : Disgusting. This country just ...  FAKE  \n",
       "1   Why Hillary Won't Unleash WWIII By Pepe Escob...  FAKE  \n",
       "2  Throughout the Republican Party, from New Hamp...  REAL  \n",
       "3  Miami (CNN) There were few softballs Wednesday...  REAL  \n",
       "4  Donald Trump said in an interview that economi...  REAL  "
      ]
     },
     "execution_count": 4,
     "metadata": {},
     "output_type": "execute_result"
    }
   ],
   "source": [
    "data.head()"
   ]
  },
  {
   "cell_type": "code",
   "execution_count": 5,
   "metadata": {},
   "outputs": [
    {
     "data": {
      "text/plain": [
       "(2027, 3)"
      ]
     },
     "execution_count": 5,
     "metadata": {},
     "output_type": "execute_result"
    }
   ],
   "source": [
    "data.shape"
   ]
  },
  {
   "cell_type": "code",
   "execution_count": 6,
   "metadata": {},
   "outputs": [
    {
     "data": {
      "text/plain": [
       "title    0\n",
       "text     0\n",
       "label    0\n",
       "dtype: int64"
      ]
     },
     "execution_count": 6,
     "metadata": {},
     "output_type": "execute_result"
    }
   ],
   "source": [
    "data.isnull().sum()"
   ]
  },
  {
   "cell_type": "markdown",
   "metadata": {},
   "source": [
    "Luckily, our data has no null values."
   ]
  },
  {
   "cell_type": "code",
   "execution_count": 7,
   "metadata": {
    "collapsed": true
   },
   "outputs": [],
   "source": [
    "#data['label'] = data['label'].astype(str)\n",
    "#data['label'].replace(['REAL','FAKE'],\n",
    "#                        [0, 1], inplace=True)\n",
    "#data['label']\n",
    "#data['label']"
   ]
  },
  {
   "cell_type": "markdown",
   "metadata": {},
   "source": [
    "### Visualizing distribution of FAKE/REAL Labels"
   ]
  },
  {
   "cell_type": "code",
   "execution_count": 8,
   "metadata": {
    "scrolled": true
   },
   "outputs": [
    {
     "name": "stdout",
     "output_type": "stream",
     "text": [
      "REAL    1023\n",
      "FAKE    1004\n",
      "Name: label, dtype: int64\n"
     ]
    },
    {
     "data": {
      "text/plain": [
       "<AxesSubplot:xlabel='label', ylabel='count'>"
      ]
     },
     "execution_count": 8,
     "metadata": {},
     "output_type": "execute_result"
    },
    {
     "data": {
      "image/png": "[encoded data removed]",
      "text/plain": [
       "<Figure size 432x288 with 1 Axes>"
      ]
     },
     "metadata": {
      "needs_background": "light"
     },
     "output_type": "display_data"
    }
   ],
   "source": [
    "print(data['label'].value_counts())\n",
    "# We need to 'melt' the data a bit to get an easy plot.\n",
    "data['count'] = data.groupby('label')['label'].transform('count')\n",
    "sns.barplot(x=\"label\", y=\"count\", data=data)\n",
    "\n",
    "# We have a relatively even enough split."
   ]
  },
  {
   "cell_type": "markdown",
   "metadata": {},
   "source": [
    "We have a relatively even distribution of labels, so there's no problem with one label being more weighted than the other."
   ]
  },
  {
   "cell_type": "markdown",
   "metadata": {},
   "source": [
    "#### Split Data"
   ]
  },
  {
   "cell_type": "markdown",
   "metadata": {},
   "source": [
    "Given that we are looking to train a model, we want to split the data into training and testing data. Reading over scikitlearn's documentation for its feature extraction module, it seems a 'corpus', or dictionary of words, is built form the data you use. I imagine this may introduce errors or issues if the 'built' vectorized wordset comes across words it didn't have or is unable to find words it should have should there be subtle differences between training/test data. So we'll want to split the data here.\n",
    "\n",
    "In this case, we use 'text' as the predictors. The headlines are often just the first few lines of the text. Could it have been relevant? Sometimes, but I felt it was less valuable given the shorter length of the text. My interest is also particularly in the written sentences of posts/articles themselves.\n",
    "\n",
    "I use the train/test split function from here:\n",
    "https://scikit-learn.org/stable/modules/generated/sklearn.model_selection.train_test_split.html"
   ]
  },
  {
   "cell_type": "code",
   "execution_count": 9,
   "metadata": {
    "collapsed": true
   },
   "outputs": [],
   "source": [
    "#y = data['label']\n",
    "#X = data['text']\n",
    "training_data, testing_data = train_test_split(data, test_size=0.3, random_state=1)\n",
    "# GET LABELS\n",
    "y_train=training_data['label']\n",
    "y_test=testing_data['label']\n",
    "#X_train.shape"
   ]
  },
  {
   "cell_type": "markdown",
   "metadata": {},
   "source": [
    "## Cleaning, Processing, some more EDA"
   ]
  },
  {
   "cell_type": "markdown",
   "metadata": {},
   "source": [
    "The vectorizer in scikitlearn will perform much faster than anything I could write to count individual words, which is important given that there are >2000 entries, with some individual entries being about as big as the ipsum lorem text we needed to process.\n",
    "\n",
    "In this case, scikitlearn provides quite a few automated tools to 'tokenize' and count words.\n",
    "\n",
    "https://scikit-learn.org/stable/modules/feature_extraction.html#text-feature-extraction\n",
    "\n",
    "What's cool about this is that it stores in CSR format. Perhaps with more time and familiarity, this is something I could've coded myself to both speed up analysis and reduce storage needs."
   ]
  },
  {
   "cell_type": "markdown",
   "metadata": {},
   "source": [
    "I utilized CountVectorizer. According to scikit-learn documentation, CountVectorizer both extracts features into 'tokens' (representations for words) and counts them at the same time.\n",
    "\n",
    "Doing this achieves the same thing that we performed in class through regular expressions and processing python string, but also adds the benefit of the later functions we created to count word occurences, while also treating certain words and their 'extensions' (kill and killing, for example), as individual words."
   ]
  },
  {
   "cell_type": "code",
   "execution_count": 10,
   "metadata": {},
   "outputs": [
    {
     "data": {
      "text/plain": [
       "<1418x33843 sparse matrix of type '<class 'numpy.int64'>'\n",
       "\twith 376249 stored elements in Compressed Sparse Row format>"
      ]
     },
     "execution_count": 10,
     "metadata": {},
     "output_type": "execute_result"
    }
   ],
   "source": [
    "# Clean Data\n",
    "vectorizer = CountVectorizer(stop_words='english',analyzer='word')\n",
    "train_vec = vectorizer.fit_transform(training_data['text'].values)\n",
    "train_vec"
   ]
  },
  {
   "cell_type": "markdown",
   "metadata": {},
   "source": [
    "As we learned in class, unprocessed text data can be messy. \n",
    "This is especially the case for tweets, online articles, and other social media posts. I initially believed CountVectorizer would also clean the text (as it splits words), but it sadly doesn't, as you'll see."
   ]
  },
  {
   "cell_type": "markdown",
   "metadata": {},
   "source": [
    "As per scikitlearn documentation, it takes 'words' of 2 alphanumerics or more only. I also specified 'stop_words = 'english' to cut out the aforementioned unimportant words like 'and' and 'or'.\n",
    "\n",
    "Let's take a quick peep at what came out."
   ]
  },
  {
   "cell_type": "code",
   "execution_count": 11,
   "metadata": {},
   "outputs": [
    {
     "name": "stdout",
     "output_type": "stream",
     "text": [
      "['00' '000' '000000031' ... 'октября' 'русский' 'عربي']\n"
     ]
    }
   ],
   "source": [
    "# Let's take a quick look\n",
    "\n",
    "features = vectorizer.get_feature_names_out() #Shows word tokens\n",
    "print(features)\n",
    "\n",
    "#Right away we see there are a few anomalies (numbers), including russian and what appears to be arabic."
   ]
  },
  {
   "cell_type": "markdown",
   "metadata": {},
   "source": [
    "Right away we see there are a few anomalies (numbers), including russian and what appears to be arabic.\n",
    "I don't know about you, but my Russian is pretty limited to \"я люблю тебя\" (\"I love you\" - ya lyublyu tebya) because my girlfriend made sure I learned it.\n",
    "\n",
    "I also could not tell you anything about Arabic. So let's clean all that out too."
   ]
  },
  {
   "cell_type": "code",
   "execution_count": 12,
   "metadata": {
    "collapsed": true
   },
   "outputs": [],
   "source": [
    "def cleantext(text):\n",
    "    text = text.lower() \n",
    "    text = text.strip()  \n",
    "    text = re.compile('<.*?>').sub('', text) \n",
    "    text = re.sub('\\s+', ' ', text)  \n",
    "    text = re.sub(r'\\[[0-9]*\\]',' ',text) \n",
    "    text = re.sub(r'[^\\w\\s]', '', str(text).lower().strip())\n",
    "    text = re.sub(r'\\d',' ',text) \n",
    "    text = re.sub(r'\\s+',' ',text)\n",
    "    text = re.sub(r'[^a-zA-Z0-9 -]','',text) # Quite a few foreign words. For sanity's sake, let's boot them out.\n",
    "    return text\n",
    "#^[a-zA-Z]+$\n",
    "training_data['text'] = training_data['text'].apply(lambda x: cleantext(x))\n",
    "#X_train"
   ]
  },
  {
   "cell_type": "markdown",
   "metadata": {},
   "source": [
    "Re-vectorized the words. Showed what came out.\n",
    "\n",
    "Still some typos. I saw that I could trim it out utilizing a corpus of words, but it seemed to be not worth the effort since only the most frequent words will matter for our analysis anyway."
   ]
  },
  {
   "cell_type": "code",
   "execution_count": 13,
   "metadata": {},
   "outputs": [
    {
     "name": "stdout",
     "output_type": "stream",
     "text": [
      "['aa' 'aaa' 'aaaa' ... 'zucman' 'zuesse' 'zulu']\n"
     ]
    },
    {
     "data": {
      "text/plain": [
       "(38276,)"
      ]
     },
     "execution_count": 13,
     "metadata": {},
     "output_type": "execute_result"
    }
   ],
   "source": [
    "vectorizer = CountVectorizer(stop_words='english',analyzer='word')\n",
    "train_vec = vectorizer.fit_transform(training_data['text'].values)\n",
    "train_vec\n",
    "features = vectorizer.get_feature_names_out() #Shows word tokens\n",
    "print(features)\n",
    "features.shape"
   ]
  },
  {
   "cell_type": "markdown",
   "metadata": {},
   "source": [
    "Funny enough, sklearn does not include an in-born histogram tool for word counts. I made do by hashing together my own dictionary from the features array (the words) and the vectorized array (the position matrices of the words).\n",
    "\n",
    "This took me much, much longer to figure out than I'd like to admit given my unfamiliarity with any of this (like, maybe more than a few hours, but maybe not because that'd be embarrassing).\n",
    "\n",
    "Please take that into consideration when you grade this :)"
   ]
  },
  {
   "cell_type": "code",
   "execution_count": 14,
   "metadata": {
    "collapsed": true
   },
   "outputs": [],
   "source": [
    "count_list = train_vec.toarray().sum(axis=0)\n",
    "train_count_dic = dict(zip(features,count_list))"
   ]
  },
  {
   "cell_type": "markdown",
   "metadata": {},
   "source": [
    "From there you can get a dataframe from the dictionary, and get a plot of the top 20 words."
   ]
  },
  {
   "cell_type": "code",
   "execution_count": 15,
   "metadata": {},
   "outputs": [
    {
     "data": {
      "image/png": "[encoded data removed]",
      "text/plain": [
       "<Figure size 432x288 with 1 Axes>"
      ]
     },
     "metadata": {
      "needs_background": "light"
     },
     "output_type": "display_data"
    },
    {
     "data": {
      "text/plain": [
       "<Figure size 720x288 with 0 Axes>"
      ]
     },
     "metadata": {},
     "output_type": "display_data"
    }
   ],
   "source": [
    "train_count = pd.DataFrame(train_count_dic.items(), columns=['Word', 'Count'])\n",
    "train_count = train_count.sort_values(by=['Count'],ascending=False)\n",
    "train_count_20 = train_count.head(20)\n",
    "# Let's just look at the top 20\n",
    "tc20 = sns.barplot(x=\"Word\", y=\"Count\", data=train_count_20)\n",
    "tc20.set_xticklabels(tc20.get_xticklabels(), rotation=40, ha=\"right\")\n",
    "tc20.set_title(\"20 Most Frequent Words\")\n",
    "plt.figure(figsize=(10,4))\n",
    "plt.tight_layout()\n",
    "plt.show()"
   ]
  },
  {
   "cell_type": "code",
   "execution_count": 16,
   "metadata": {},
   "outputs": [
    {
     "data": {
      "text/html": [
       "<div>\n",
       "<style scoped>\n",
       "    .dataframe tbody tr th:only-of-type {\n",
       "        vertical-align: middle;\n",
       "    }\n",
       "\n",
       "    .dataframe tbody tr th {\n",
       "        vertical-align: top;\n",
       "    }\n",
       "\n",
       "    .dataframe thead th {\n",
       "        text-align: right;\n",
       "    }\n",
       "</style>\n",
       "<table border=\"1\" class=\"dataframe\">\n",
       "  <thead>\n",
       "    <tr style=\"text-align: right;\">\n",
       "      <th></th>\n",
       "      <th>Word</th>\n",
       "      <th>Count</th>\n",
       "    </tr>\n",
       "  </thead>\n",
       "  <tbody>\n",
       "    <tr>\n",
       "      <th>29643</th>\n",
       "      <td>said</td>\n",
       "      <td>4828</td>\n",
       "    </tr>\n",
       "    <tr>\n",
       "      <th>35099</th>\n",
       "      <td>trump</td>\n",
       "      <td>4469</td>\n",
       "    </tr>\n",
       "    <tr>\n",
       "      <th>5975</th>\n",
       "      <td>clinton</td>\n",
       "      <td>3394</td>\n",
       "    </tr>\n",
       "    <tr>\n",
       "      <th>24938</th>\n",
       "      <td>people</td>\n",
       "      <td>2560</td>\n",
       "    </tr>\n",
       "    <tr>\n",
       "      <th>22708</th>\n",
       "      <td>new</td>\n",
       "      <td>2229</td>\n",
       "    </tr>\n",
       "    <tr>\n",
       "      <th>32408</th>\n",
       "      <td>state</td>\n",
       "      <td>1948</td>\n",
       "    </tr>\n",
       "    <tr>\n",
       "      <th>26326</th>\n",
       "      <td>president</td>\n",
       "      <td>1887</td>\n",
       "    </tr>\n",
       "    <tr>\n",
       "      <th>4721</th>\n",
       "      <td>campaign</td>\n",
       "      <td>1810</td>\n",
       "    </tr>\n",
       "    <tr>\n",
       "      <th>18286</th>\n",
       "      <td>just</td>\n",
       "      <td>1716</td>\n",
       "    </tr>\n",
       "    <tr>\n",
       "      <th>15534</th>\n",
       "      <td>hillary</td>\n",
       "      <td>1691</td>\n",
       "    </tr>\n",
       "    <tr>\n",
       "      <th>19562</th>\n",
       "      <td>like</td>\n",
       "      <td>1651</td>\n",
       "    </tr>\n",
       "    <tr>\n",
       "      <th>32439</th>\n",
       "      <td>states</td>\n",
       "      <td>1502</td>\n",
       "    </tr>\n",
       "    <tr>\n",
       "      <th>34435</th>\n",
       "      <td>time</td>\n",
       "      <td>1490</td>\n",
       "    </tr>\n",
       "    <tr>\n",
       "      <th>28524</th>\n",
       "      <td>republican</td>\n",
       "      <td>1439</td>\n",
       "    </tr>\n",
       "    <tr>\n",
       "      <th>23348</th>\n",
       "      <td>obama</td>\n",
       "      <td>1423</td>\n",
       "    </tr>\n",
       "    <tr>\n",
       "      <th>38034</th>\n",
       "      <td>years</td>\n",
       "      <td>1185</td>\n",
       "    </tr>\n",
       "    <tr>\n",
       "      <th>10612</th>\n",
       "      <td>election</td>\n",
       "      <td>1182</td>\n",
       "    </tr>\n",
       "    <tr>\n",
       "      <th>14134</th>\n",
       "      <td>going</td>\n",
       "      <td>1149</td>\n",
       "    </tr>\n",
       "    <tr>\n",
       "      <th>1183</th>\n",
       "      <td>american</td>\n",
       "      <td>1103</td>\n",
       "    </tr>\n",
       "    <tr>\n",
       "      <th>25751</th>\n",
       "      <td>political</td>\n",
       "      <td>1103</td>\n",
       "    </tr>\n",
       "  </tbody>\n",
       "</table>\n",
       "</div>"
      ],
      "text/plain": [
       "             Word  Count\n",
       "29643        said   4828\n",
       "35099       trump   4469\n",
       "5975      clinton   3394\n",
       "24938      people   2560\n",
       "22708         new   2229\n",
       "32408       state   1948\n",
       "26326   president   1887\n",
       "4721     campaign   1810\n",
       "18286        just   1716\n",
       "15534     hillary   1691\n",
       "19562        like   1651\n",
       "32439      states   1502\n",
       "34435        time   1490\n",
       "28524  republican   1439\n",
       "23348       obama   1423\n",
       "38034       years   1185\n",
       "10612    election   1182\n",
       "14134       going   1149\n",
       "1183     american   1103\n",
       "25751   political   1103"
      ]
     },
     "execution_count": 16,
     "metadata": {},
     "output_type": "execute_result"
    }
   ],
   "source": [
    "train_count_20"
   ]
  },
  {
   "cell_type": "markdown",
   "metadata": {},
   "source": [
    "We get a general idea of the top 20 words in our dataset.\n",
    "\n",
    "You can probably start seeing where things might get a bit choppy. Keywords like 'trump' despite any controversy associated will not be enough to establish 'Fake News' as both true and false information is reported regarding him. Likewise, the word 'said' is the most common word, despite having little meaning. We resolve that later."
   ]
  },
  {
   "cell_type": "markdown",
   "metadata": {},
   "source": [
    " Let's not also forget the test set."
   ]
  },
  {
   "cell_type": "code",
   "execution_count": 17,
   "metadata": {
    "collapsed": true
   },
   "outputs": [],
   "source": [
    "testing_data['text'] = testing_data['text'].apply(lambda x: cleantext(x))"
   ]
  },
  {
   "cell_type": "markdown",
   "metadata": {},
   "source": [
    "#### On the topic of 'scaling'"
   ]
  },
  {
   "cell_type": "markdown",
   "metadata": {},
   "source": [
    "Another important consideration is what we discovered before. Words like 'Trump' get repeated quite often. This will cause issues in analysis.\n",
    "\n",
    "Instead, we could consider tfidf, which establishes 'term frequency times inverse-document frequency'.\n",
    "\n",
    "This is to say: \n",
    "\n",
    ">The goal of using tf-idf instead of the raw frequencies of occurrence of a token in a given document is to scale down the impact of tokens that occur very frequently in a given corpus and that are hence empirically less informative than features that occur in a small fraction of the training corpus.\n",
    "\n",
    "From: https://scikit-learn.org/stable/modules/generated/sklearn.feature_extraction.text.TfidfTransformer.html#sklearn.feature_extraction.text.TfidfTransformer\n",
    "\n",
    "Which is to say that we are effectively scaling word frequency so less emphasis is placed on words that are too common. "
   ]
  },
  {
   "cell_type": "markdown",
   "metadata": {},
   "source": [
    "#### Remove 'said' from acceptable word list. (This actually has minimum impact, strangely)\n",
    "\n",
    "Here we add the word 'said' to the 'stop_words'. This effectively removes it from consideration in analysis."
   ]
  },
  {
   "cell_type": "code",
   "execution_count": 18,
   "metadata": {},
   "outputs": [
    {
     "data": {
      "text/plain": [
       "{'a',\n",
       " 'about',\n",
       " 'above',\n",
       " 'across',\n",
       " 'after',\n",
       " 'afterwards',\n",
       " 'again',\n",
       " 'against',\n",
       " 'all',\n",
       " 'almost',\n",
       " 'alone',\n",
       " 'along',\n",
       " 'already',\n",
       " 'also',\n",
       " 'although',\n",
       " 'always',\n",
       " 'am',\n",
       " 'among',\n",
       " 'amongst',\n",
       " 'amoungst',\n",
       " 'amount',\n",
       " 'an',\n",
       " 'and',\n",
       " 'another',\n",
       " 'any',\n",
       " 'anyhow',\n",
       " 'anyone',\n",
       " 'anything',\n",
       " 'anyway',\n",
       " 'anywhere',\n",
       " 'are',\n",
       " 'around',\n",
       " 'as',\n",
       " 'at',\n",
       " 'back',\n",
       " 'be',\n",
       " 'became',\n",
       " 'because',\n",
       " 'become',\n",
       " 'becomes',\n",
       " 'becoming',\n",
       " 'been',\n",
       " 'before',\n",
       " 'beforehand',\n",
       " 'behind',\n",
       " 'being',\n",
       " 'below',\n",
       " 'beside',\n",
       " 'besides',\n",
       " 'between',\n",
       " 'beyond',\n",
       " 'bill',\n",
       " 'both',\n",
       " 'bottom',\n",
       " 'but',\n",
       " 'by',\n",
       " 'call',\n",
       " 'can',\n",
       " 'cannot',\n",
       " 'cant',\n",
       " 'co',\n",
       " 'con',\n",
       " 'could',\n",
       " 'couldnt',\n",
       " 'cry',\n",
       " 'd',\n",
       " 'de',\n",
       " 'describe',\n",
       " 'detail',\n",
       " 'do',\n",
       " 'done',\n",
       " 'down',\n",
       " 'due',\n",
       " 'during',\n",
       " 'each',\n",
       " 'eg',\n",
       " 'eight',\n",
       " 'either',\n",
       " 'eleven',\n",
       " 'else',\n",
       " 'elsewhere',\n",
       " 'empty',\n",
       " 'enough',\n",
       " 'etc',\n",
       " 'even',\n",
       " 'ever',\n",
       " 'every',\n",
       " 'everyone',\n",
       " 'everything',\n",
       " 'everywhere',\n",
       " 'except',\n",
       " 'few',\n",
       " 'fifteen',\n",
       " 'fifty',\n",
       " 'fill',\n",
       " 'find',\n",
       " 'fire',\n",
       " 'first',\n",
       " 'five',\n",
       " 'for',\n",
       " 'former',\n",
       " 'formerly',\n",
       " 'forty',\n",
       " 'found',\n",
       " 'four',\n",
       " 'from',\n",
       " 'front',\n",
       " 'full',\n",
       " 'further',\n",
       " 'get',\n",
       " 'give',\n",
       " 'go',\n",
       " 'had',\n",
       " 'has',\n",
       " 'hasnt',\n",
       " 'have',\n",
       " 'he',\n",
       " 'hence',\n",
       " 'her',\n",
       " 'here',\n",
       " 'hereafter',\n",
       " 'hereby',\n",
       " 'herein',\n",
       " 'hereupon',\n",
       " 'hers',\n",
       " 'herself',\n",
       " 'him',\n",
       " 'himself',\n",
       " 'his',\n",
       " 'how',\n",
       " 'however',\n",
       " 'hundred',\n",
       " 'i',\n",
       " 'ie',\n",
       " 'if',\n",
       " 'in',\n",
       " 'inc',\n",
       " 'indeed',\n",
       " 'interest',\n",
       " 'into',\n",
       " 'is',\n",
       " 'it',\n",
       " 'its',\n",
       " 'itself',\n",
       " 'keep',\n",
       " 'last',\n",
       " 'latter',\n",
       " 'latterly',\n",
       " 'least',\n",
       " 'less',\n",
       " 'ltd',\n",
       " 'made',\n",
       " 'many',\n",
       " 'may',\n",
       " 'me',\n",
       " 'meanwhile',\n",
       " 'might',\n",
       " 'mill',\n",
       " 'mine',\n",
       " 'more',\n",
       " 'moreover',\n",
       " 'most',\n",
       " 'mostly',\n",
       " 'move',\n",
       " 'much',\n",
       " 'must',\n",
       " 'my',\n",
       " 'myself',\n",
       " 'name',\n",
       " 'namely',\n",
       " 'neither',\n",
       " 'never',\n",
       " 'nevertheless',\n",
       " 'next',\n",
       " 'nine',\n",
       " 'no',\n",
       " 'nobody',\n",
       " 'none',\n",
       " 'noone',\n",
       " 'nor',\n",
       " 'not',\n",
       " 'nothing',\n",
       " 'now',\n",
       " 'nowhere',\n",
       " 'of',\n",
       " 'off',\n",
       " 'often',\n",
       " 'on',\n",
       " 'once',\n",
       " 'one',\n",
       " 'only',\n",
       " 'onto',\n",
       " 'or',\n",
       " 'other',\n",
       " 'others',\n",
       " 'otherwise',\n",
       " 'our',\n",
       " 'ours',\n",
       " 'ourselves',\n",
       " 'out',\n",
       " 'over',\n",
       " 'own',\n",
       " 'part',\n",
       " 'per',\n",
       " 'perhaps',\n",
       " 'please',\n",
       " 'put',\n",
       " 'rather',\n",
       " 're',\n",
       " 's',\n",
       " 'said',\n",
       " 'same',\n",
       " 'see',\n",
       " 'seem',\n",
       " 'seemed',\n",
       " 'seeming',\n",
       " 'seems',\n",
       " 'serious',\n",
       " 'several',\n",
       " 'she',\n",
       " 'should',\n",
       " 'show',\n",
       " 'side',\n",
       " 'since',\n",
       " 'sincere',\n",
       " 'six',\n",
       " 'sixty',\n",
       " 'so',\n",
       " 'some',\n",
       " 'somehow',\n",
       " 'someone',\n",
       " 'something',\n",
       " 'sometime',\n",
       " 'sometimes',\n",
       " 'somewhere',\n",
       " 'still',\n",
       " 'such',\n",
       " 'system',\n",
       " 'take',\n",
       " 'ten',\n",
       " 'than',\n",
       " 'that',\n",
       " 'the',\n",
       " 'their',\n",
       " 'them',\n",
       " 'themselves',\n",
       " 'then',\n",
       " 'thence',\n",
       " 'there',\n",
       " 'thereafter',\n",
       " 'thereby',\n",
       " 'therefore',\n",
       " 'therein',\n",
       " 'thereupon',\n",
       " 'these',\n",
       " 'they',\n",
       " 'thick',\n",
       " 'thin',\n",
       " 'third',\n",
       " 'this',\n",
       " 'those',\n",
       " 'though',\n",
       " 'three',\n",
       " 'through',\n",
       " 'throughout',\n",
       " 'thru',\n",
       " 'thus',\n",
       " 'to',\n",
       " 'together',\n",
       " 'too',\n",
       " 'top',\n",
       " 'toward',\n",
       " 'towards',\n",
       " 'twelve',\n",
       " 'twenty',\n",
       " 'two',\n",
       " 'un',\n",
       " 'under',\n",
       " 'until',\n",
       " 'up',\n",
       " 'upon',\n",
       " 'us',\n",
       " 'very',\n",
       " 'via',\n",
       " 'was',\n",
       " 'we',\n",
       " 'well',\n",
       " 'were',\n",
       " 'what',\n",
       " 'whatever',\n",
       " 'when',\n",
       " 'whence',\n",
       " 'whenever',\n",
       " 'where',\n",
       " 'whereafter',\n",
       " 'whereas',\n",
       " 'whereby',\n",
       " 'wherein',\n",
       " 'whereupon',\n",
       " 'wherever',\n",
       " 'whether',\n",
       " 'which',\n",
       " 'while',\n",
       " 'whither',\n",
       " 'who',\n",
       " 'whoever',\n",
       " 'whole',\n",
       " 'whom',\n",
       " 'whose',\n",
       " 'why',\n",
       " 'will',\n",
       " 'with',\n",
       " 'within',\n",
       " 'without',\n",
       " 'would',\n",
       " 'yet',\n",
       " 'you',\n",
       " 'your',\n",
       " 'yours',\n",
       " 'yourself',\n",
       " 'yourselves'}"
      ]
     },
     "execution_count": 18,
     "metadata": {},
     "output_type": "execute_result"
    }
   ],
   "source": [
    "stop_words = set(text.ENGLISH_STOP_WORDS).union('said')\n",
    "stop_words.add('said')\n",
    "stop_words"
   ]
  },
  {
   "cell_type": "markdown",
   "metadata": {},
   "source": [
    "#### More Pythonic Means of getting vector counts\n",
    "\n",
    "Here we just create a function to run both the original count vectorizer we were using before, and the aforementioned tfidf transformer that allows us to scale back on the impact of high frequency terms like 'trump'."
   ]
  },
  {
   "cell_type": "code",
   "execution_count": 19,
   "metadata": {
    "collapsed": true
   },
   "outputs": [],
   "source": [
    "def extract_features(data,X_train,X_test,type=\"count\"):        \n",
    "    if \"count\" in type:        \n",
    "        v = CountVectorizer(stop_words=stop_words,analyzer='word')\n",
    "        v.fit_transform(X_train)\n",
    "        \n",
    "        v_train_set= v.transform(training_data['text'].values)\n",
    "        v_test_set= v.transform(testing_data['text'].values)\n",
    "        \n",
    "        return v_train_set,v_test_set,v \n",
    "    else:    \n",
    "        \n",
    "        tfidf_v =TfidfVectorizer(use_idf=True,stop_words=stop_words,analyzer='word')\n",
    "        tfidf_v.fit_transform(X_train)\n",
    "        \n",
    "        tfidf_train_set =tfidf_v.transform(training_data['text'].values)\n",
    "        tfidf_test_set =tfidf_v.transform(testing_data['text'].values)\n",
    "        \n",
    "        return tfidf_train_set,tfidf_test_set,tfidf_v"
   ]
  },
  {
   "cell_type": "markdown",
   "metadata": {},
   "source": [
    "### Training/Predicting with Model"
   ]
  },
  {
   "cell_type": "markdown",
   "metadata": {},
   "source": [
    "For this project, I wanted to use the simplest supervised model I could think of for the task. I wanted to give an interpretable result and also understand what could be happening underneath.\n",
    "\n",
    "The predicted variable in this case is also binary, leaving it as a perfect fit for a logistic regression model."
   ]
  },
  {
   "cell_type": "code",
   "execution_count": 20,
   "metadata": {
    "collapsed": true
   },
   "outputs": [],
   "source": [
    "vec_train,vec_test,feature_transformer=extract_features(data,training_data['text'],testing_data['text'],type=\"count\")\n",
    "tf_train,tf_test,feature_transformer=extract_features(data,training_data['text'],testing_data['text'],type=\"tfidf\")"
   ]
  },
  {
   "cell_type": "code",
   "execution_count": 21,
   "metadata": {},
   "outputs": [
    {
     "name": "stdout",
     "output_type": "stream",
     "text": [
      "[LibLinear]"
     ]
    }
   ],
   "source": [
    "logreg = LogisticRegression(verbose=1, solver='liblinear',random_state=1, C=5, penalty='l2',max_iter=100)\n",
    "lr_model_vc = logreg.fit(vec_train,y_train)"
   ]
  },
  {
   "cell_type": "code",
   "execution_count": 22,
   "metadata": {},
   "outputs": [
    {
     "data": {
      "text/plain": [
       "scipy.sparse.csr.csr_matrix"
      ]
     },
     "execution_count": 22,
     "metadata": {},
     "output_type": "execute_result"
    }
   ],
   "source": [
    "type(vec_train)"
   ]
  },
  {
   "cell_type": "markdown",
   "metadata": {},
   "source": [
    "#### Here we train the 'normal' count model that doesn't take into account scaling for abnormally high word frequencies."
   ]
  },
  {
   "cell_type": "code",
   "execution_count": 23,
   "metadata": {},
   "outputs": [
    {
     "data": {
      "text/plain": [
       "0.90311986863711"
      ]
     },
     "execution_count": 23,
     "metadata": {},
     "output_type": "execute_result"
    }
   ],
   "source": [
    "lr_predictions_vc = lr_model_vc.predict(vec_test)\n",
    "lr_model_vc.score(vec_test,y_test)\n",
    "#eval_perf = collect_preds(y_test,lr_predictions)\n",
    "#accuracy=compute_accuracy(eval_perf)\n",
    "#mrr_lr =compute_mrr(eval_perf)"
   ]
  },
  {
   "cell_type": "markdown",
   "metadata": {},
   "source": [
    "#### The model has a 90.3 % prediction accuracy on the test data."
   ]
  },
  {
   "cell_type": "markdown",
   "metadata": {},
   "source": [
    "#### And here we train the model that scales for high word frequencies"
   ]
  },
  {
   "cell_type": "code",
   "execution_count": 24,
   "metadata": {},
   "outputs": [
    {
     "name": "stdout",
     "output_type": "stream",
     "text": [
      "[LibLinear]"
     ]
    },
    {
     "data": {
      "text/plain": [
       "0.9293924466338259"
      ]
     },
     "execution_count": 24,
     "metadata": {},
     "output_type": "execute_result"
    }
   ],
   "source": [
    "lr_model_tf = logreg.fit(tf_train,y_train)\n",
    "lr_predictions_tf = lr_model_tf.predict(tf_test)\n",
    "lr_model_tf.score(tf_test,y_test)"
   ]
  },
  {
   "cell_type": "markdown",
   "metadata": {},
   "source": [
    "#### As expected, this produces a model with a higher accuracy of 93%."
   ]
  },
  {
   "cell_type": "markdown",
   "metadata": {},
   "source": [
    "We then take a look at other measures of performance including 'AUC' or 'Area Under the Curve'. This looks to qualify model predictive accuracy through performance on true positive rates and false positive rates."
   ]
  },
  {
   "cell_type": "code",
   "execution_count": 25,
   "metadata": {
    "collapsed": true
   },
   "outputs": [],
   "source": [
    "y_prob = lr_model_vc.predict_proba(vec_train)[:,1]"
   ]
  },
  {
   "cell_type": "code",
   "execution_count": 26,
   "metadata": {},
   "outputs": [
    {
     "name": "stdout",
     "output_type": "stream",
     "text": [
      "AUC: 0.964735020291239\n"
     ]
    }
   ],
   "source": [
    "fpr, tpr, thresholds = roc_curve(y_train, y_prob,pos_label='REAL')\n",
    "roc_auc = auc(fpr, tpr)\n",
    "print('AUC:', roc_auc)"
   ]
  },
  {
   "cell_type": "markdown",
   "metadata": {},
   "source": [
    "Our model seems to be able to robustly predict accurately without high levels of false positives from the data given."
   ]
  },
  {
   "cell_type": "markdown",
   "metadata": {},
   "source": [
    "### Conclusions"
   ]
  },
  {
   "cell_type": "markdown",
   "metadata": {},
   "source": [
    "Our model performed excellently, able to accurately predict 'fake' or 'real' news at a rate of 90% without considering scaling of frequent words, and 93% upon consideration of scaling of more frequent words. Likewise, this was accompanied by a high AUC score, indicating that the model was correctly predicting labels.\n",
    "\n",
    "These results are a little surprising to me given the relative dearth of information available to the model and relatively small sample size for the model to train off of. I suspect that the model may have been overfitted to the data presented. Given the relatively high frequency of various politically charged terms, it's possible that the data used drastically distinct examples of 'fake news', while using more 'normal' text for 'real' news."
   ]
  },
  {
   "cell_type": "markdown",
   "metadata": {},
   "source": [
    "To test this theory, let's look at the distribution of words under each label."
   ]
  },
  {
   "cell_type": "code",
   "execution_count": 27,
   "metadata": {},
   "outputs": [
    {
     "name": "stderr",
     "output_type": "stream",
     "text": [
      "<ipython-input-27-607fd4164678>:2: SettingWithCopyWarning: \n",
      "A value is trying to be set on a copy of a slice from a DataFrame.\n",
      "Try using .loc[row_indexer,col_indexer] = value instead\n",
      "\n",
      "See the caveats in the documentation: https://pandas.pydata.org/pandas-docs/stable/user_guide/indexing.html#returning-a-view-versus-a-copy\n",
      "  realdata['text'] = realdata['text'].apply(lambda x: cleantext(x))\n",
      "<ipython-input-27-607fd4164678>:4: SettingWithCopyWarning: \n",
      "A value is trying to be set on a copy of a slice from a DataFrame.\n",
      "Try using .loc[row_indexer,col_indexer] = value instead\n",
      "\n",
      "See the caveats in the documentation: https://pandas.pydata.org/pandas-docs/stable/user_guide/indexing.html#returning-a-view-versus-a-copy\n",
      "  fakedata['text'] = fakedata['text'].apply(lambda x: cleantext(x))\n"
     ]
    }
   ],
   "source": [
    "realdata = data[data['label'] == 'REAL']\n",
    "realdata['text'] = realdata['text'].apply(lambda x: cleantext(x))\n",
    "fakedata = data[data['label'] == 'FAKE']\n",
    "fakedata['text'] = fakedata['text'].apply(lambda x: cleantext(x))"
   ]
  },
  {
   "cell_type": "code",
   "execution_count": 28,
   "metadata": {},
   "outputs": [
    {
     "name": "stdout",
     "output_type": "stream",
     "text": [
      "['aaa' 'aalia' 'aaron' ... 'zucker' 'zuckerberg' 'zuma']\n"
     ]
    },
    {
     "data": {
      "image/png": "[encoded data removed]",
      "text/plain": [
       "<Figure size 432x288 with 1 Axes>"
      ]
     },
     "metadata": {
      "needs_background": "light"
     },
     "output_type": "display_data"
    },
    {
     "data": {
      "text/plain": [
       "<Figure size 720x288 with 0 Axes>"
      ]
     },
     "metadata": {},
     "output_type": "display_data"
    }
   ],
   "source": [
    "vectorizer = CountVectorizer(stop_words=stop_words,analyzer='word')\n",
    "real_vec = vectorizer.fit_transform(realdata['text'].values)\n",
    "features = vectorizer.get_feature_names_out() #Shows word tokens\n",
    "print(features)\n",
    "features.shape\n",
    "count_list = real_vec.toarray().sum(axis=0)\n",
    "real_count_dic = dict(zip(features,count_list))\n",
    "real_count = pd.DataFrame(real_count_dic.items(), columns=['Word', 'Count'])\n",
    "real_count = real_count.sort_values(by=['Count'],ascending=False)\n",
    "real_count_20 = real_count.head(20)\n",
    "# Let's just look at the top 20\n",
    "real20 = sns.barplot(x=\"Word\", y=\"Count\", data=real_count_20)\n",
    "real20.set_xticklabels(real20.get_xticklabels(), rotation=40, ha=\"right\")\n",
    "real20.set_title(\"20 Most Frequent Real News Words\")\n",
    "plt.figure(figsize=(10,4))\n",
    "plt.tight_layout()\n",
    "plt.show()"
   ]
  },
  {
   "cell_type": "code",
   "execution_count": 29,
   "metadata": {},
   "outputs": [
    {
     "data": {
      "text/html": [
       "<div>\n",
       "<style scoped>\n",
       "    .dataframe tbody tr th:only-of-type {\n",
       "        vertical-align: middle;\n",
       "    }\n",
       "\n",
       "    .dataframe tbody tr th {\n",
       "        vertical-align: top;\n",
       "    }\n",
       "\n",
       "    .dataframe thead th {\n",
       "        text-align: right;\n",
       "    }\n",
       "</style>\n",
       "<table border=\"1\" class=\"dataframe\">\n",
       "  <thead>\n",
       "    <tr style=\"text-align: right;\">\n",
       "      <th></th>\n",
       "      <th>Word</th>\n",
       "      <th>Count</th>\n",
       "    </tr>\n",
       "  </thead>\n",
       "  <tbody>\n",
       "    <tr>\n",
       "      <th>27083</th>\n",
       "      <td>trump</td>\n",
       "      <td>4258</td>\n",
       "    </tr>\n",
       "    <tr>\n",
       "      <th>4605</th>\n",
       "      <td>clinton</td>\n",
       "      <td>2687</td>\n",
       "    </tr>\n",
       "    <tr>\n",
       "      <th>19070</th>\n",
       "      <td>people</td>\n",
       "      <td>2062</td>\n",
       "    </tr>\n",
       "    <tr>\n",
       "      <th>24903</th>\n",
       "      <td>state</td>\n",
       "      <td>1938</td>\n",
       "    </tr>\n",
       "    <tr>\n",
       "      <th>17399</th>\n",
       "      <td>new</td>\n",
       "      <td>1907</td>\n",
       "    </tr>\n",
       "    <tr>\n",
       "      <th>20099</th>\n",
       "      <td>president</td>\n",
       "      <td>1844</td>\n",
       "    </tr>\n",
       "    <tr>\n",
       "      <th>3614</th>\n",
       "      <td>campaign</td>\n",
       "      <td>1759</td>\n",
       "    </tr>\n",
       "    <tr>\n",
       "      <th>21826</th>\n",
       "      <td>republican</td>\n",
       "      <td>1601</td>\n",
       "    </tr>\n",
       "    <tr>\n",
       "      <th>17854</th>\n",
       "      <td>obama</td>\n",
       "      <td>1394</td>\n",
       "    </tr>\n",
       "    <tr>\n",
       "      <th>24923</th>\n",
       "      <td>states</td>\n",
       "      <td>1370</td>\n",
       "    </tr>\n",
       "    <tr>\n",
       "      <th>14056</th>\n",
       "      <td>just</td>\n",
       "      <td>1257</td>\n",
       "    </tr>\n",
       "    <tr>\n",
       "      <th>26562</th>\n",
       "      <td>time</td>\n",
       "      <td>1229</td>\n",
       "    </tr>\n",
       "    <tr>\n",
       "      <th>15033</th>\n",
       "      <td>like</td>\n",
       "      <td>1218</td>\n",
       "    </tr>\n",
       "    <tr>\n",
       "      <th>19085</th>\n",
       "      <td>percent</td>\n",
       "      <td>1182</td>\n",
       "    </tr>\n",
       "    <tr>\n",
       "      <th>28375</th>\n",
       "      <td>voters</td>\n",
       "      <td>1078</td>\n",
       "    </tr>\n",
       "    <tr>\n",
       "      <th>22823</th>\n",
       "      <td>sanders</td>\n",
       "      <td>1062</td>\n",
       "    </tr>\n",
       "    <tr>\n",
       "      <th>19662</th>\n",
       "      <td>political</td>\n",
       "      <td>1061</td>\n",
       "    </tr>\n",
       "    <tr>\n",
       "      <th>18844</th>\n",
       "      <td>party</td>\n",
       "      <td>1051</td>\n",
       "    </tr>\n",
       "    <tr>\n",
       "      <th>6072</th>\n",
       "      <td>cruz</td>\n",
       "      <td>1048</td>\n",
       "    </tr>\n",
       "    <tr>\n",
       "      <th>12355</th>\n",
       "      <td>house</td>\n",
       "      <td>1043</td>\n",
       "    </tr>\n",
       "    <tr>\n",
       "      <th>6746</th>\n",
       "      <td>democratic</td>\n",
       "      <td>985</td>\n",
       "    </tr>\n",
       "    <tr>\n",
       "      <th>26642</th>\n",
       "      <td>told</td>\n",
       "      <td>974</td>\n",
       "    </tr>\n",
       "    <tr>\n",
       "      <th>29238</th>\n",
       "      <td>years</td>\n",
       "      <td>973</td>\n",
       "    </tr>\n",
       "    <tr>\n",
       "      <th>11022</th>\n",
       "      <td>going</td>\n",
       "      <td>957</td>\n",
       "    </tr>\n",
       "    <tr>\n",
       "      <th>20102</th>\n",
       "      <td>presidential</td>\n",
       "      <td>954</td>\n",
       "    </tr>\n",
       "    <tr>\n",
       "      <th>21838</th>\n",
       "      <td>republicans</td>\n",
       "      <td>918</td>\n",
       "    </tr>\n",
       "    <tr>\n",
       "      <th>22925</th>\n",
       "      <td>say</td>\n",
       "      <td>918</td>\n",
       "    </tr>\n",
       "    <tr>\n",
       "      <th>3455</th>\n",
       "      <td>bush</td>\n",
       "      <td>908</td>\n",
       "    </tr>\n",
       "    <tr>\n",
       "      <th>22929</th>\n",
       "      <td>says</td>\n",
       "      <td>885</td>\n",
       "    </tr>\n",
       "    <tr>\n",
       "      <th>27113</th>\n",
       "      <td>trumps</td>\n",
       "      <td>877</td>\n",
       "    </tr>\n",
       "    <tr>\n",
       "      <th>12082</th>\n",
       "      <td>hillary</td>\n",
       "      <td>875</td>\n",
       "    </tr>\n",
       "    <tr>\n",
       "      <th>15576</th>\n",
       "      <td>make</td>\n",
       "      <td>833</td>\n",
       "    </tr>\n",
       "    <tr>\n",
       "      <th>17412</th>\n",
       "      <td>news</td>\n",
       "      <td>833</td>\n",
       "    </tr>\n",
       "    <tr>\n",
       "      <th>7710</th>\n",
       "      <td>dont</td>\n",
       "      <td>819</td>\n",
       "    </tr>\n",
       "    <tr>\n",
       "      <th>7104</th>\n",
       "      <td>did</td>\n",
       "      <td>815</td>\n",
       "    </tr>\n",
       "    <tr>\n",
       "      <th>11070</th>\n",
       "      <td>gop</td>\n",
       "      <td>813</td>\n",
       "    </tr>\n",
       "    <tr>\n",
       "      <th>26378</th>\n",
       "      <td>think</td>\n",
       "      <td>810</td>\n",
       "    </tr>\n",
       "    <tr>\n",
       "      <th>3658</th>\n",
       "      <td>candidate</td>\n",
       "      <td>809</td>\n",
       "    </tr>\n",
       "    <tr>\n",
       "      <th>6436</th>\n",
       "      <td>debate</td>\n",
       "      <td>803</td>\n",
       "    </tr>\n",
       "    <tr>\n",
       "      <th>949</th>\n",
       "      <td>american</td>\n",
       "      <td>802</td>\n",
       "    </tr>\n",
       "    <tr>\n",
       "      <th>28368</th>\n",
       "      <td>vote</td>\n",
       "      <td>798</td>\n",
       "    </tr>\n",
       "    <tr>\n",
       "      <th>28812</th>\n",
       "      <td>white</td>\n",
       "      <td>779</td>\n",
       "    </tr>\n",
       "    <tr>\n",
       "      <th>28603</th>\n",
       "      <td>way</td>\n",
       "      <td>776</td>\n",
       "    </tr>\n",
       "    <tr>\n",
       "      <th>5785</th>\n",
       "      <td>country</td>\n",
       "      <td>771</td>\n",
       "    </tr>\n",
       "    <tr>\n",
       "      <th>19631</th>\n",
       "      <td>police</td>\n",
       "      <td>763</td>\n",
       "    </tr>\n",
       "    <tr>\n",
       "      <th>29226</th>\n",
       "      <td>year</td>\n",
       "      <td>750</td>\n",
       "    </tr>\n",
       "    <tr>\n",
       "      <th>11101</th>\n",
       "      <td>government</td>\n",
       "      <td>747</td>\n",
       "    </tr>\n",
       "    <tr>\n",
       "      <th>25568</th>\n",
       "      <td>support</td>\n",
       "      <td>737</td>\n",
       "    </tr>\n",
       "    <tr>\n",
       "      <th>22580</th>\n",
       "      <td>rubio</td>\n",
       "      <td>725</td>\n",
       "    </tr>\n",
       "    <tr>\n",
       "      <th>7692</th>\n",
       "      <td>donald</td>\n",
       "      <td>725</td>\n",
       "    </tr>\n",
       "  </tbody>\n",
       "</table>\n",
       "</div>"
      ],
      "text/plain": [
       "               Word  Count\n",
       "27083         trump   4258\n",
       "4605        clinton   2687\n",
       "19070        people   2062\n",
       "24903         state   1938\n",
       "17399           new   1907\n",
       "20099     president   1844\n",
       "3614       campaign   1759\n",
       "21826    republican   1601\n",
       "17854         obama   1394\n",
       "24923        states   1370\n",
       "14056          just   1257\n",
       "26562          time   1229\n",
       "15033          like   1218\n",
       "19085       percent   1182\n",
       "28375        voters   1078\n",
       "22823       sanders   1062\n",
       "19662     political   1061\n",
       "18844         party   1051\n",
       "6072           cruz   1048\n",
       "12355         house   1043\n",
       "6746     democratic    985\n",
       "26642          told    974\n",
       "29238         years    973\n",
       "11022         going    957\n",
       "20102  presidential    954\n",
       "21838   republicans    918\n",
       "22925           say    918\n",
       "3455           bush    908\n",
       "22929          says    885\n",
       "27113        trumps    877\n",
       "12082       hillary    875\n",
       "15576          make    833\n",
       "17412          news    833\n",
       "7710           dont    819\n",
       "7104            did    815\n",
       "11070           gop    813\n",
       "26378         think    810\n",
       "3658      candidate    809\n",
       "6436         debate    803\n",
       "949        american    802\n",
       "28368          vote    798\n",
       "28812         white    779\n",
       "28603           way    776\n",
       "5785        country    771\n",
       "19631        police    763\n",
       "29226          year    750\n",
       "11101    government    747\n",
       "25568       support    737\n",
       "22580         rubio    725\n",
       "7692         donald    725"
      ]
     },
     "execution_count": 29,
     "metadata": {},
     "output_type": "execute_result"
    }
   ],
   "source": [
    "real_count.head(50)"
   ]
  },
  {
   "cell_type": "code",
   "execution_count": 30,
   "metadata": {},
   "outputs": [
    {
     "name": "stdout",
     "output_type": "stream",
     "text": [
      "['aa' 'aaaa' 'aaaaadd' ... 'zucman' 'zuesse' 'zulu']\n"
     ]
    },
    {
     "data": {
      "image/png": "[encoded data removed]",
      "text/plain": [
       "<Figure size 432x288 with 1 Axes>"
      ]
     },
     "metadata": {
      "needs_background": "light"
     },
     "output_type": "display_data"
    },
    {
     "data": {
      "text/plain": [
       "<Figure size 720x288 with 0 Axes>"
      ]
     },
     "metadata": {},
     "output_type": "display_data"
    }
   ],
   "source": [
    "vectorizer = CountVectorizer(stop_words=stop_words,analyzer='word')\n",
    "fake_vec = vectorizer.fit_transform(fakedata['text'].values)\n",
    "features = vectorizer.get_feature_names_out() #Shows word tokens\n",
    "print(features)\n",
    "features.shape\n",
    "count_list = fake_vec.toarray().sum(axis=0)\n",
    "fake_count_dic = dict(zip(features,count_list))\n",
    "fake_count = pd.DataFrame(fake_count_dic.items(), columns=['Word', 'Count'])\n",
    "fake_count = fake_count.sort_values(by=['Count'],ascending=False)\n",
    "fake_count_20 = fake_count.head(20)\n",
    "# Let's just look at the top 20\n",
    "fake20 = sns.barplot(x=\"Word\", y=\"Count\", data=fake_count_20)\n",
    "fake20.set_xticklabels(fake20.get_xticklabels(), rotation=40, ha=\"right\")\n",
    "fake20.set_title(\"20 Most Frequent Fake News Words\")\n",
    "plt.figure(figsize=(10,4))\n",
    "plt.tight_layout()\n",
    "plt.show()"
   ]
  },
  {
   "cell_type": "code",
   "execution_count": 31,
   "metadata": {},
   "outputs": [
    {
     "data": {
      "text/html": [
       "<div>\n",
       "<style scoped>\n",
       "    .dataframe tbody tr th:only-of-type {\n",
       "        vertical-align: middle;\n",
       "    }\n",
       "\n",
       "    .dataframe tbody tr th {\n",
       "        vertical-align: top;\n",
       "    }\n",
       "\n",
       "    .dataframe thead th {\n",
       "        text-align: right;\n",
       "    }\n",
       "</style>\n",
       "<table border=\"1\" class=\"dataframe\">\n",
       "  <thead>\n",
       "    <tr style=\"text-align: right;\">\n",
       "      <th></th>\n",
       "      <th>Word</th>\n",
       "      <th>Count</th>\n",
       "    </tr>\n",
       "  </thead>\n",
       "  <tbody>\n",
       "    <tr>\n",
       "      <th>4901</th>\n",
       "      <td>clinton</td>\n",
       "      <td>1981</td>\n",
       "    </tr>\n",
       "    <tr>\n",
       "      <th>28650</th>\n",
       "      <td>trump</td>\n",
       "      <td>1908</td>\n",
       "    </tr>\n",
       "    <tr>\n",
       "      <th>20355</th>\n",
       "      <td>people</td>\n",
       "      <td>1580</td>\n",
       "    </tr>\n",
       "    <tr>\n",
       "      <th>12678</th>\n",
       "      <td>hillary</td>\n",
       "      <td>1456</td>\n",
       "    </tr>\n",
       "    <tr>\n",
       "      <th>15060</th>\n",
       "      <td>just</td>\n",
       "      <td>1171</td>\n",
       "    </tr>\n",
       "    <tr>\n",
       "      <th>18574</th>\n",
       "      <td>new</td>\n",
       "      <td>1159</td>\n",
       "    </tr>\n",
       "    <tr>\n",
       "      <th>8692</th>\n",
       "      <td>election</td>\n",
       "      <td>1049</td>\n",
       "    </tr>\n",
       "    <tr>\n",
       "      <th>16072</th>\n",
       "      <td>like</td>\n",
       "      <td>1045</td>\n",
       "    </tr>\n",
       "    <tr>\n",
       "      <th>30880</th>\n",
       "      <td>world</td>\n",
       "      <td>924</td>\n",
       "    </tr>\n",
       "    <tr>\n",
       "      <th>28089</th>\n",
       "      <td>time</td>\n",
       "      <td>848</td>\n",
       "    </tr>\n",
       "    <tr>\n",
       "      <th>21518</th>\n",
       "      <td>president</td>\n",
       "      <td>828</td>\n",
       "    </tr>\n",
       "    <tr>\n",
       "      <th>26463</th>\n",
       "      <td>state</td>\n",
       "      <td>813</td>\n",
       "    </tr>\n",
       "    <tr>\n",
       "      <th>30227</th>\n",
       "      <td>war</td>\n",
       "      <td>813</td>\n",
       "    </tr>\n",
       "    <tr>\n",
       "      <th>982</th>\n",
       "      <td>american</td>\n",
       "      <td>776</td>\n",
       "    </tr>\n",
       "    <tr>\n",
       "      <th>11660</th>\n",
       "      <td>government</td>\n",
       "      <td>771</td>\n",
       "    </tr>\n",
       "    <tr>\n",
       "      <th>31105</th>\n",
       "      <td>years</td>\n",
       "      <td>730</td>\n",
       "    </tr>\n",
       "    <tr>\n",
       "      <th>19073</th>\n",
       "      <td>obama</td>\n",
       "      <td>711</td>\n",
       "    </tr>\n",
       "    <tr>\n",
       "      <th>26486</th>\n",
       "      <td>states</td>\n",
       "      <td>706</td>\n",
       "    </tr>\n",
       "    <tr>\n",
       "      <th>3872</th>\n",
       "      <td>campaign</td>\n",
       "      <td>705</td>\n",
       "    </tr>\n",
       "    <tr>\n",
       "      <th>10068</th>\n",
       "      <td>fbi</td>\n",
       "      <td>683</td>\n",
       "    </tr>\n",
       "    <tr>\n",
       "      <th>15405</th>\n",
       "      <td>know</td>\n",
       "      <td>622</td>\n",
       "    </tr>\n",
       "    <tr>\n",
       "      <th>11574</th>\n",
       "      <td>going</td>\n",
       "      <td>602</td>\n",
       "    </tr>\n",
       "    <tr>\n",
       "      <th>17130</th>\n",
       "      <td>media</td>\n",
       "      <td>602</td>\n",
       "    </tr>\n",
       "    <tr>\n",
       "      <th>30351</th>\n",
       "      <td>way</td>\n",
       "      <td>588</td>\n",
       "    </tr>\n",
       "    <tr>\n",
       "      <th>8129</th>\n",
       "      <td>dont</td>\n",
       "      <td>571</td>\n",
       "    </tr>\n",
       "    <tr>\n",
       "      <th>17835</th>\n",
       "      <td>money</td>\n",
       "      <td>549</td>\n",
       "    </tr>\n",
       "    <tr>\n",
       "      <th>30591</th>\n",
       "      <td>white</td>\n",
       "      <td>543</td>\n",
       "    </tr>\n",
       "    <tr>\n",
       "      <th>18597</th>\n",
       "      <td>news</td>\n",
       "      <td>518</td>\n",
       "    </tr>\n",
       "    <tr>\n",
       "      <th>24154</th>\n",
       "      <td>russia</td>\n",
       "      <td>517</td>\n",
       "    </tr>\n",
       "    <tr>\n",
       "      <th>8108</th>\n",
       "      <td>donald</td>\n",
       "      <td>513</td>\n",
       "    </tr>\n",
       "    <tr>\n",
       "      <th>27927</th>\n",
       "      <td>think</td>\n",
       "      <td>513</td>\n",
       "    </tr>\n",
       "    <tr>\n",
       "      <th>21029</th>\n",
       "      <td>political</td>\n",
       "      <td>512</td>\n",
       "    </tr>\n",
       "    <tr>\n",
       "      <th>16631</th>\n",
       "      <td>make</td>\n",
       "      <td>512</td>\n",
       "    </tr>\n",
       "    <tr>\n",
       "      <th>22088</th>\n",
       "      <td>public</td>\n",
       "      <td>497</td>\n",
       "    </tr>\n",
       "    <tr>\n",
       "      <th>7521</th>\n",
       "      <td>did</td>\n",
       "      <td>492</td>\n",
       "    </tr>\n",
       "    <tr>\n",
       "      <th>29283</th>\n",
       "      <td>united</td>\n",
       "      <td>487</td>\n",
       "    </tr>\n",
       "    <tr>\n",
       "      <th>6110</th>\n",
       "      <td>country</td>\n",
       "      <td>486</td>\n",
       "    </tr>\n",
       "    <tr>\n",
       "      <th>13000</th>\n",
       "      <td>house</td>\n",
       "      <td>470</td>\n",
       "    </tr>\n",
       "    <tr>\n",
       "      <th>19209</th>\n",
       "      <td>october</td>\n",
       "      <td>469</td>\n",
       "    </tr>\n",
       "    <tr>\n",
       "      <th>196</th>\n",
       "      <td>according</td>\n",
       "      <td>468</td>\n",
       "    </tr>\n",
       "    <tr>\n",
       "      <th>23771</th>\n",
       "      <td>right</td>\n",
       "      <td>468</td>\n",
       "    </tr>\n",
       "    <tr>\n",
       "      <th>24464</th>\n",
       "      <td>say</td>\n",
       "      <td>465</td>\n",
       "    </tr>\n",
       "    <tr>\n",
       "      <th>8781</th>\n",
       "      <td>emails</td>\n",
       "      <td>455</td>\n",
       "    </tr>\n",
       "    <tr>\n",
       "      <th>30083</th>\n",
       "      <td>vote</td>\n",
       "      <td>452</td>\n",
       "    </tr>\n",
       "    <tr>\n",
       "      <th>6715</th>\n",
       "      <td>day</td>\n",
       "      <td>447</td>\n",
       "    </tr>\n",
       "    <tr>\n",
       "      <th>8776</th>\n",
       "      <td>email</td>\n",
       "      <td>444</td>\n",
       "    </tr>\n",
       "    <tr>\n",
       "      <th>978</th>\n",
       "      <td>america</td>\n",
       "      <td>439</td>\n",
       "    </tr>\n",
       "    <tr>\n",
       "      <th>4915</th>\n",
       "      <td>clintons</td>\n",
       "      <td>437</td>\n",
       "    </tr>\n",
       "    <tr>\n",
       "      <th>14420</th>\n",
       "      <td>investigation</td>\n",
       "      <td>426</td>\n",
       "    </tr>\n",
       "    <tr>\n",
       "      <th>18321</th>\n",
       "      <td>national</td>\n",
       "      <td>424</td>\n",
       "    </tr>\n",
       "  </tbody>\n",
       "</table>\n",
       "</div>"
      ],
      "text/plain": [
       "                Word  Count\n",
       "4901         clinton   1981\n",
       "28650          trump   1908\n",
       "20355         people   1580\n",
       "12678        hillary   1456\n",
       "15060           just   1171\n",
       "18574            new   1159\n",
       "8692        election   1049\n",
       "16072           like   1045\n",
       "30880          world    924\n",
       "28089           time    848\n",
       "21518      president    828\n",
       "26463          state    813\n",
       "30227            war    813\n",
       "982         american    776\n",
       "11660     government    771\n",
       "31105          years    730\n",
       "19073          obama    711\n",
       "26486         states    706\n",
       "3872        campaign    705\n",
       "10068            fbi    683\n",
       "15405           know    622\n",
       "11574          going    602\n",
       "17130          media    602\n",
       "30351            way    588\n",
       "8129            dont    571\n",
       "17835          money    549\n",
       "30591          white    543\n",
       "18597           news    518\n",
       "24154         russia    517\n",
       "8108          donald    513\n",
       "27927          think    513\n",
       "21029      political    512\n",
       "16631           make    512\n",
       "22088         public    497\n",
       "7521             did    492\n",
       "29283         united    487\n",
       "6110         country    486\n",
       "13000          house    470\n",
       "19209        october    469\n",
       "196        according    468\n",
       "23771          right    468\n",
       "24464            say    465\n",
       "8781          emails    455\n",
       "30083           vote    452\n",
       "6715             day    447\n",
       "8776           email    444\n",
       "978          america    439\n",
       "4915        clintons    437\n",
       "14420  investigation    426\n",
       "18321       national    424"
      ]
     },
     "execution_count": 31,
     "metadata": {},
     "output_type": "execute_result"
    }
   ],
   "source": [
    "fake_count.head(50)"
   ]
  },
  {
   "cell_type": "markdown",
   "metadata": {},
   "source": [
    "As one would suspect, there are differences in representation of words between the two news labels. However, there exists enough overlap to show that it's unlikely that the two labeled texts drastically differed as to be about completely different topics (real news being about kittens, while fake news being about vaccines, for example).\n",
    "\n",
    "Surprisingly, without a need to consider word pair relations or other such features outside of individual counts of words, it looks as though our classification model was able to strongly predict fake news within this dataset. This implies that usage and frequency of certain key words alone could be enough to detect potential proliferation of misinformation."
   ]
  },
  {
   "cell_type": "markdown",
   "metadata": {},
   "source": [
    "## Next Steps"
   ]
  },
  {
   "cell_type": "markdown",
   "metadata": {},
   "source": [
    "Next steps would have to include:\n",
    "\n",
    "#### Validating that the model can perform on other data.\n",
    "\n",
    "It's possible that my model would not be able to perform well outside of this tailored dataset. There is 20 MB more data to potentially validate my model on, but my thoughts are that data from other sources should also be considered.\n",
    "\n",
    "#### Observing impacts of connectiveness of words in determining whether or not they were 'fake news' dependent. \n",
    "\n",
    "Just looking over some of the more frequent words, it's evident that there may be further information for a model to work with through word associations and pairs. \"emails\" or \"day\" alone may have little meaning, but likely were also paired with words like 'Hilary' or 'election', for example.\n",
    "\n",
    "#### Looking deeper into the model to see what features were most salient.\n",
    "\n",
    "With more time, and a greater understanding of sklearn's logistic regression, and logistic regression in general, I will be better be able to interpret my model results, and perhaps learn whether it was overfitted to the data through a certain parameter."
   ]
  }
 ],
 "metadata": {
  "kernelspec": {
   "display_name": "Python 3",
   "language": "python",
   "name": "python3"
  },
  "language_info": {
   "codemirror_mode": {
    "name": "ipython",
    "version": 3
   },
   "file_extension": ".py",
   "mimetype": "text/x-python",
   "name": "python",
   "nbconvert_exporter": "python",
   "pygments_lexer": "ipython3",
   "version": "3.8.8"
  }
 },
 "nbformat": 4,
 "nbformat_minor": 2
}
